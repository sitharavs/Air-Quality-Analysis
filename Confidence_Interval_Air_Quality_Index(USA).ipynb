{
  "nbformat": 4,
  "nbformat_minor": 0,
  "metadata": {
    "colab": {
      "provenance": [],
      "include_colab_link": true
    },
    "kernelspec": {
      "name": "python3",
      "display_name": "Python 3"
    },
    "language_info": {
      "name": "python"
    }
  },
  "cells": [
    {
      "cell_type": "markdown",
      "metadata": {
        "id": "view-in-github",
        "colab_type": "text"
      },
      "source": [
        "<a href=\"https://colab.research.google.com/github/sitharavs/Air-Quality-Analysis/blob/main/Confidence_Interval_Air_Quality_Index(USA).ipynb\" target=\"_parent\"><img src=\"https://colab.research.google.com/assets/colab-badge.svg\" alt=\"Open In Colab\"/></a>"
      ]
    },
    {
      "cell_type": "markdown",
      "source": [
        "# Exploring Confidence Level in Statistics\n",
        "\n",
        "Ripple Renewable Energy (RRE) - operates in the following U.S. states: California ,Florida , Michigan , Ohio , Pennsylvania , Texas. So we will drill down our analysis in these states."
      ],
      "metadata": {
        "id": "CJp_ghjsE7j-"
      }
    },
    {
      "cell_type": "markdown",
      "source": [
        "This notebook analyzes air quality data (AQI) for different US states,\n",
        "particularly focusing on states where Ripple Renewable Energy (RRE) operates.\n",
        "\n",
        "I have calculated the mean AQI for these states, constructed a boxplot to visualize AQI distribution, and finally determines a confidence interval for the\n",
        "state with the highest mean AQI (California) to understand the level of\n",
        "certainty around that mean.\n",
        "\n",
        "This analysis helps identify potential impact\n",
        "of policies related to air quality on RRE's operations in different states.\n",
        "\n"
      ],
      "metadata": {
        "id": "vl6RwZtt8qeh"
      }
    },
    {
      "cell_type": "markdown",
      "source": [
        "# KEY TAKEAWAYS -  \n",
        "1. Exploratory Data Analysis\n",
        "2. Mean in the dataset (conceptually)\n",
        "3. Exploring box plots\n",
        "4. Sample statistics, confidence level, z-scores, margin of error, intervals(upper limits & lower limits), validation with stats formulas in Scipy"
      ],
      "metadata": {
        "id": "N2ZvUAJmA7y6"
      }
    },
    {
      "cell_type": "markdown",
      "source": [
        "## EDA - Exploratory Data Analysis"
      ],
      "metadata": {
        "id": "IrlrxeNWze5s"
      }
    },
    {
      "cell_type": "code",
      "execution_count": null,
      "metadata": {
        "id": "UUG16mBlE4lM"
      },
      "outputs": [],
      "source": [
        "import pandas as pd\n",
        "import numpy as np\n",
        "import matplotlib.pyplot as plt\n",
        "import seaborn as sns"
      ]
    },
    {
      "cell_type": "code",
      "source": [
        "aqi = pd.read_csv('/content/aqi.csv')\n",
        "print(aqi.head())"
      ],
      "metadata": {
        "colab": {
          "base_uri": "https://localhost:8080/"
        },
        "id": "1FJ7gQxKLhOh",
        "outputId": "cfa20df1-bb34-41b3-8a47-6fa1c6273c28"
      },
      "execution_count": null,
      "outputs": [
        {
          "output_type": "stream",
          "name": "stdout",
          "text": [
            "        State  Year  Days with AQI  Good Days  Moderate Days  \\\n",
            "0  California  2023            365        247            112   \n",
            "1      Oregon  2023            365        205            129   \n",
            "2  California  2023            365        106            236   \n",
            "3     Arizona  2023            365         31            248   \n",
            "4  California  2023            365         35            189   \n",
            "\n",
            "   Unhealthy for Sensitive Groups Days  Unhealthy Days  Very Unhealthy Days  \\\n",
            "0                                    5               0                    0   \n",
            "1                                   10              11                    7   \n",
            "2                                   13               3                    1   \n",
            "3                                   74              10                    1   \n",
            "4                                   78              49                   10   \n",
            "\n",
            "   Hazardous Days  Max AQI  90th Percentile AQI  Median AQI  Days CO  \\\n",
            "0               1     1435                   64          45        0   \n",
            "1               3      872                   83          44        0   \n",
            "2               6      786                   90          61        0   \n",
            "3               1      709                  126          78        0   \n",
            "4               4      660                  174          81        0   \n",
            "\n",
            "   Days NO2  Days Ozone  Days PM2.5  Days PM10  \n",
            "0         0         272          93          0  \n",
            "1         0           0         365          0  \n",
            "2         0         202         123         40  \n",
            "3         0         153          88        124  \n",
            "4         7         187         122         49  \n"
          ]
        }
      ]
    },
    {
      "cell_type": "code",
      "source": [
        "aqi.info()"
      ],
      "metadata": {
        "colab": {
          "base_uri": "https://localhost:8080/"
        },
        "id": "2nPwQbijLwGO",
        "outputId": "e3c54771-9576-410b-c40b-c0185a786fa9"
      },
      "execution_count": null,
      "outputs": [
        {
          "output_type": "stream",
          "name": "stdout",
          "text": [
            "<class 'pandas.core.frame.DataFrame'>\n",
            "RangeIndex: 499 entries, 0 to 498\n",
            "Data columns (total 17 columns):\n",
            " #   Column                               Non-Null Count  Dtype \n",
            "---  ------                               --------------  ----- \n",
            " 0   State                                499 non-null    object\n",
            " 1   Year                                 499 non-null    int64 \n",
            " 2   Days with AQI                        499 non-null    int64 \n",
            " 3   Good Days                            499 non-null    int64 \n",
            " 4   Moderate Days                        499 non-null    int64 \n",
            " 5   Unhealthy for Sensitive Groups Days  499 non-null    int64 \n",
            " 6   Unhealthy Days                       499 non-null    int64 \n",
            " 7   Very Unhealthy Days                  499 non-null    int64 \n",
            " 8   Hazardous Days                       499 non-null    int64 \n",
            " 9   Max AQI                              499 non-null    int64 \n",
            " 10  90th Percentile AQI                  499 non-null    int64 \n",
            " 11  Median AQI                           499 non-null    int64 \n",
            " 12  Days CO                              499 non-null    int64 \n",
            " 13  Days NO2                             499 non-null    int64 \n",
            " 14  Days Ozone                           499 non-null    int64 \n",
            " 15  Days PM2.5                           499 non-null    int64 \n",
            " 16  Days PM10                            499 non-null    int64 \n",
            "dtypes: int64(16), object(1)\n",
            "memory usage: 66.4+ KB\n"
          ]
        }
      ]
    },
    {
      "cell_type": "code",
      "source": [
        "print('For more thorough infor regarding states, use valuecounts()')\n",
        "print(aqi['State'].value_counts().sort_index(ascending=True))"
      ],
      "metadata": {
        "colab": {
          "base_uri": "https://localhost:8080/"
        },
        "id": "Y2E-44rCOHqd",
        "outputId": "cd7833dc-9a94-479b-9862-e8b8be330c0f"
      },
      "execution_count": null,
      "outputs": [
        {
          "output_type": "stream",
          "name": "stdout",
          "text": [
            "For more thorough infor regarding states, use valuecounts()\n",
            "State\n",
            "Alabama            9\n",
            "Alaska             3\n",
            "Arizona           10\n",
            "Arkansas           7\n",
            "California        37\n",
            "Colorado          10\n",
            "Connecticut        5\n",
            "Delaware           2\n",
            "Florida           22\n",
            "Georgia           16\n",
            "Hawaii             3\n",
            "Idaho              8\n",
            "Illinois          11\n",
            "Indiana           15\n",
            "Iowa               9\n",
            "Kansas             4\n",
            "Kentucky           9\n",
            "Louisiana          9\n",
            "Maine              4\n",
            "Maryland           3\n",
            "Massachusetts      6\n",
            "Michigan          17\n",
            "Minnesota         10\n",
            "Mississippi        7\n",
            "Missouri           6\n",
            "Montana            8\n",
            "Nebraska           5\n",
            "Nevada             8\n",
            "New Hampshire      4\n",
            "New Jersey         4\n",
            "New Mexico        12\n",
            "New York           9\n",
            "North Carolina    15\n",
            "North Dakota       4\n",
            "Ohio              21\n",
            "Oklahoma           8\n",
            "Oregon            12\n",
            "Pennsylvania      20\n",
            "Puerto Rico        4\n",
            "Rhode Island       1\n",
            "South Carolina     7\n",
            "South Dakota       9\n",
            "Tennessee         14\n",
            "Texas             24\n",
            "Utah               8\n",
            "Vermont            3\n",
            "Virginia           9\n",
            "Washington        19\n",
            "West Virginia      5\n",
            "Wisconsin         16\n",
            "Wyoming            8\n",
            "Name: count, dtype: int64\n"
          ]
        }
      ]
    },
    {
      "cell_type": "code",
      "source": [
        "#no of unique states\n",
        "aqi['State'].nunique()"
      ],
      "metadata": {
        "colab": {
          "base_uri": "https://localhost:8080/"
        },
        "id": "V0hp-0riOv9T",
        "outputId": "45febfe1-a165-4d90-c0ff-982bda707259"
      },
      "execution_count": null,
      "outputs": [
        {
          "output_type": "execute_result",
          "data": {
            "text/plain": [
              "51"
            ]
          },
          "metadata": {},
          "execution_count": 5
        }
      ]
    },
    {
      "cell_type": "code",
      "source": [
        "#describe aqi\n",
        "aqi.describe()"
      ],
      "metadata": {
        "colab": {
          "base_uri": "https://localhost:8080/",
          "height": 389
        },
        "id": "gHD3sxmjQNUU",
        "outputId": "f18905ce-a68f-4208-8b83-69692bbfea3c"
      },
      "execution_count": null,
      "outputs": [
        {
          "output_type": "execute_result",
          "data": {
            "text/plain": [
              "         Year  Days with AQI   Good Days  Moderate Days  \\\n",
              "count   499.0     499.000000  499.000000     499.000000   \n",
              "mean   2023.0     339.797595  213.695391     118.144289   \n",
              "std       0.0      61.180170   71.363115      68.902842   \n",
              "min    2023.0      59.000000   31.000000       0.000000   \n",
              "25%    2023.0     357.000000  168.000000      54.500000   \n",
              "50%    2023.0     365.000000  213.000000     119.000000   \n",
              "75%    2023.0     365.000000  265.000000     169.500000   \n",
              "max    2023.0     365.000000  365.000000     290.000000   \n",
              "\n",
              "       Unhealthy for Sensitive Groups Days  Unhealthy Days  \\\n",
              "count                           499.000000      499.000000   \n",
              "mean                              6.138277        1.378758   \n",
              "std                               9.266845        3.338174   \n",
              "min                               0.000000        0.000000   \n",
              "25%                               1.000000        0.000000   \n",
              "50%                               3.000000        0.000000   \n",
              "75%                               8.000000        2.000000   \n",
              "max                              78.000000       49.000000   \n",
              "\n",
              "       Very Unhealthy Days  Hazardous Days      Max AQI  90th Percentile AQI  \\\n",
              "count           499.000000      499.000000   499.000000           499.000000   \n",
              "mean              0.318637        0.122244   163.611222            67.146293   \n",
              "std               0.873915        1.447573   102.610099            16.066523   \n",
              "min               0.000000        0.000000    32.000000            12.000000   \n",
              "25%               0.000000        0.000000   110.500000            58.000000   \n",
              "50%               0.000000        0.000000   147.000000            66.000000   \n",
              "75%               0.000000        0.000000   188.500000            74.000000   \n",
              "max              10.000000       31.000000  1435.000000           174.000000   \n",
              "\n",
              "       Median AQI     Days CO    Days NO2  Days Ozone  Days PM2.5   Days PM10  \n",
              "count  499.000000  499.000000  499.000000  499.000000  499.000000  499.000000  \n",
              "mean    43.529058    0.328657    0.947896  144.577154  182.525050   11.418838  \n",
              "std     10.195117    4.617085    4.859191  104.778556  114.931448   46.337193  \n",
              "min      6.000000    0.000000    0.000000    0.000000    0.000000    0.000000  \n",
              "25%     39.000000    0.000000    0.000000   72.000000   93.000000    0.000000  \n",
              "50%     44.000000    0.000000    0.000000  137.000000  205.000000    0.000000  \n",
              "75%     50.000000    0.000000    0.000000  212.500000  261.000000    0.000000  \n",
              "max     81.000000   93.000000   93.000000  365.000000  365.000000  365.000000  "
            ],
            "text/html": [
              "\n",
              "  <div id=\"df-6ce335b5-201d-428d-abe4-02e1cd98362e\" class=\"colab-df-container\">\n",
              "    <div>\n",
              "<style scoped>\n",
              "    .dataframe tbody tr th:only-of-type {\n",
              "        vertical-align: middle;\n",
              "    }\n",
              "\n",
              "    .dataframe tbody tr th {\n",
              "        vertical-align: top;\n",
              "    }\n",
              "\n",
              "    .dataframe thead th {\n",
              "        text-align: right;\n",
              "    }\n",
              "</style>\n",
              "<table border=\"1\" class=\"dataframe\">\n",
              "  <thead>\n",
              "    <tr style=\"text-align: right;\">\n",
              "      <th></th>\n",
              "      <th>Year</th>\n",
              "      <th>Days with AQI</th>\n",
              "      <th>Good Days</th>\n",
              "      <th>Moderate Days</th>\n",
              "      <th>Unhealthy for Sensitive Groups Days</th>\n",
              "      <th>Unhealthy Days</th>\n",
              "      <th>Very Unhealthy Days</th>\n",
              "      <th>Hazardous Days</th>\n",
              "      <th>Max AQI</th>\n",
              "      <th>90th Percentile AQI</th>\n",
              "      <th>Median AQI</th>\n",
              "      <th>Days CO</th>\n",
              "      <th>Days NO2</th>\n",
              "      <th>Days Ozone</th>\n",
              "      <th>Days PM2.5</th>\n",
              "      <th>Days PM10</th>\n",
              "    </tr>\n",
              "  </thead>\n",
              "  <tbody>\n",
              "    <tr>\n",
              "      <th>count</th>\n",
              "      <td>499.0</td>\n",
              "      <td>499.000000</td>\n",
              "      <td>499.000000</td>\n",
              "      <td>499.000000</td>\n",
              "      <td>499.000000</td>\n",
              "      <td>499.000000</td>\n",
              "      <td>499.000000</td>\n",
              "      <td>499.000000</td>\n",
              "      <td>499.000000</td>\n",
              "      <td>499.000000</td>\n",
              "      <td>499.000000</td>\n",
              "      <td>499.000000</td>\n",
              "      <td>499.000000</td>\n",
              "      <td>499.000000</td>\n",
              "      <td>499.000000</td>\n",
              "      <td>499.000000</td>\n",
              "    </tr>\n",
              "    <tr>\n",
              "      <th>mean</th>\n",
              "      <td>2023.0</td>\n",
              "      <td>339.797595</td>\n",
              "      <td>213.695391</td>\n",
              "      <td>118.144289</td>\n",
              "      <td>6.138277</td>\n",
              "      <td>1.378758</td>\n",
              "      <td>0.318637</td>\n",
              "      <td>0.122244</td>\n",
              "      <td>163.611222</td>\n",
              "      <td>67.146293</td>\n",
              "      <td>43.529058</td>\n",
              "      <td>0.328657</td>\n",
              "      <td>0.947896</td>\n",
              "      <td>144.577154</td>\n",
              "      <td>182.525050</td>\n",
              "      <td>11.418838</td>\n",
              "    </tr>\n",
              "    <tr>\n",
              "      <th>std</th>\n",
              "      <td>0.0</td>\n",
              "      <td>61.180170</td>\n",
              "      <td>71.363115</td>\n",
              "      <td>68.902842</td>\n",
              "      <td>9.266845</td>\n",
              "      <td>3.338174</td>\n",
              "      <td>0.873915</td>\n",
              "      <td>1.447573</td>\n",
              "      <td>102.610099</td>\n",
              "      <td>16.066523</td>\n",
              "      <td>10.195117</td>\n",
              "      <td>4.617085</td>\n",
              "      <td>4.859191</td>\n",
              "      <td>104.778556</td>\n",
              "      <td>114.931448</td>\n",
              "      <td>46.337193</td>\n",
              "    </tr>\n",
              "    <tr>\n",
              "      <th>min</th>\n",
              "      <td>2023.0</td>\n",
              "      <td>59.000000</td>\n",
              "      <td>31.000000</td>\n",
              "      <td>0.000000</td>\n",
              "      <td>0.000000</td>\n",
              "      <td>0.000000</td>\n",
              "      <td>0.000000</td>\n",
              "      <td>0.000000</td>\n",
              "      <td>32.000000</td>\n",
              "      <td>12.000000</td>\n",
              "      <td>6.000000</td>\n",
              "      <td>0.000000</td>\n",
              "      <td>0.000000</td>\n",
              "      <td>0.000000</td>\n",
              "      <td>0.000000</td>\n",
              "      <td>0.000000</td>\n",
              "    </tr>\n",
              "    <tr>\n",
              "      <th>25%</th>\n",
              "      <td>2023.0</td>\n",
              "      <td>357.000000</td>\n",
              "      <td>168.000000</td>\n",
              "      <td>54.500000</td>\n",
              "      <td>1.000000</td>\n",
              "      <td>0.000000</td>\n",
              "      <td>0.000000</td>\n",
              "      <td>0.000000</td>\n",
              "      <td>110.500000</td>\n",
              "      <td>58.000000</td>\n",
              "      <td>39.000000</td>\n",
              "      <td>0.000000</td>\n",
              "      <td>0.000000</td>\n",
              "      <td>72.000000</td>\n",
              "      <td>93.000000</td>\n",
              "      <td>0.000000</td>\n",
              "    </tr>\n",
              "    <tr>\n",
              "      <th>50%</th>\n",
              "      <td>2023.0</td>\n",
              "      <td>365.000000</td>\n",
              "      <td>213.000000</td>\n",
              "      <td>119.000000</td>\n",
              "      <td>3.000000</td>\n",
              "      <td>0.000000</td>\n",
              "      <td>0.000000</td>\n",
              "      <td>0.000000</td>\n",
              "      <td>147.000000</td>\n",
              "      <td>66.000000</td>\n",
              "      <td>44.000000</td>\n",
              "      <td>0.000000</td>\n",
              "      <td>0.000000</td>\n",
              "      <td>137.000000</td>\n",
              "      <td>205.000000</td>\n",
              "      <td>0.000000</td>\n",
              "    </tr>\n",
              "    <tr>\n",
              "      <th>75%</th>\n",
              "      <td>2023.0</td>\n",
              "      <td>365.000000</td>\n",
              "      <td>265.000000</td>\n",
              "      <td>169.500000</td>\n",
              "      <td>8.000000</td>\n",
              "      <td>2.000000</td>\n",
              "      <td>0.000000</td>\n",
              "      <td>0.000000</td>\n",
              "      <td>188.500000</td>\n",
              "      <td>74.000000</td>\n",
              "      <td>50.000000</td>\n",
              "      <td>0.000000</td>\n",
              "      <td>0.000000</td>\n",
              "      <td>212.500000</td>\n",
              "      <td>261.000000</td>\n",
              "      <td>0.000000</td>\n",
              "    </tr>\n",
              "    <tr>\n",
              "      <th>max</th>\n",
              "      <td>2023.0</td>\n",
              "      <td>365.000000</td>\n",
              "      <td>365.000000</td>\n",
              "      <td>290.000000</td>\n",
              "      <td>78.000000</td>\n",
              "      <td>49.000000</td>\n",
              "      <td>10.000000</td>\n",
              "      <td>31.000000</td>\n",
              "      <td>1435.000000</td>\n",
              "      <td>174.000000</td>\n",
              "      <td>81.000000</td>\n",
              "      <td>93.000000</td>\n",
              "      <td>93.000000</td>\n",
              "      <td>365.000000</td>\n",
              "      <td>365.000000</td>\n",
              "      <td>365.000000</td>\n",
              "    </tr>\n",
              "  </tbody>\n",
              "</table>\n",
              "</div>\n",
              "    <div class=\"colab-df-buttons\">\n",
              "\n",
              "  <div class=\"colab-df-container\">\n",
              "    <button class=\"colab-df-convert\" onclick=\"convertToInteractive('df-6ce335b5-201d-428d-abe4-02e1cd98362e')\"\n",
              "            title=\"Convert this dataframe to an interactive table.\"\n",
              "            style=\"display:none;\">\n",
              "\n",
              "  <svg xmlns=\"http://www.w3.org/2000/svg\" height=\"24px\" viewBox=\"0 -960 960 960\">\n",
              "    <path d=\"M120-120v-720h720v720H120Zm60-500h600v-160H180v160Zm220 220h160v-160H400v160Zm0 220h160v-160H400v160ZM180-400h160v-160H180v160Zm440 0h160v-160H620v160ZM180-180h160v-160H180v160Zm440 0h160v-160H620v160Z\"/>\n",
              "  </svg>\n",
              "    </button>\n",
              "\n",
              "  <style>\n",
              "    .colab-df-container {\n",
              "      display:flex;\n",
              "      gap: 12px;\n",
              "    }\n",
              "\n",
              "    .colab-df-convert {\n",
              "      background-color: #E8F0FE;\n",
              "      border: none;\n",
              "      border-radius: 50%;\n",
              "      cursor: pointer;\n",
              "      display: none;\n",
              "      fill: #1967D2;\n",
              "      height: 32px;\n",
              "      padding: 0 0 0 0;\n",
              "      width: 32px;\n",
              "    }\n",
              "\n",
              "    .colab-df-convert:hover {\n",
              "      background-color: #E2EBFA;\n",
              "      box-shadow: 0px 1px 2px rgba(60, 64, 67, 0.3), 0px 1px 3px 1px rgba(60, 64, 67, 0.15);\n",
              "      fill: #174EA6;\n",
              "    }\n",
              "\n",
              "    .colab-df-buttons div {\n",
              "      margin-bottom: 4px;\n",
              "    }\n",
              "\n",
              "    [theme=dark] .colab-df-convert {\n",
              "      background-color: #3B4455;\n",
              "      fill: #D2E3FC;\n",
              "    }\n",
              "\n",
              "    [theme=dark] .colab-df-convert:hover {\n",
              "      background-color: #434B5C;\n",
              "      box-shadow: 0px 1px 3px 1px rgba(0, 0, 0, 0.15);\n",
              "      filter: drop-shadow(0px 1px 2px rgba(0, 0, 0, 0.3));\n",
              "      fill: #FFFFFF;\n",
              "    }\n",
              "  </style>\n",
              "\n",
              "    <script>\n",
              "      const buttonEl =\n",
              "        document.querySelector('#df-6ce335b5-201d-428d-abe4-02e1cd98362e button.colab-df-convert');\n",
              "      buttonEl.style.display =\n",
              "        google.colab.kernel.accessAllowed ? 'block' : 'none';\n",
              "\n",
              "      async function convertToInteractive(key) {\n",
              "        const element = document.querySelector('#df-6ce335b5-201d-428d-abe4-02e1cd98362e');\n",
              "        const dataTable =\n",
              "          await google.colab.kernel.invokeFunction('convertToInteractive',\n",
              "                                                    [key], {});\n",
              "        if (!dataTable) return;\n",
              "\n",
              "        const docLinkHtml = 'Like what you see? Visit the ' +\n",
              "          '<a target=\"_blank\" href=https://colab.research.google.com/notebooks/data_table.ipynb>data table notebook</a>'\n",
              "          + ' to learn more about interactive tables.';\n",
              "        element.innerHTML = '';\n",
              "        dataTable['output_type'] = 'display_data';\n",
              "        await google.colab.output.renderOutput(dataTable, element);\n",
              "        const docLink = document.createElement('div');\n",
              "        docLink.innerHTML = docLinkHtml;\n",
              "        element.appendChild(docLink);\n",
              "      }\n",
              "    </script>\n",
              "  </div>\n",
              "\n",
              "\n",
              "<div id=\"df-61ecb0b0-b967-406d-ad14-b0bd3c7239d8\">\n",
              "  <button class=\"colab-df-quickchart\" onclick=\"quickchart('df-61ecb0b0-b967-406d-ad14-b0bd3c7239d8')\"\n",
              "            title=\"Suggest charts\"\n",
              "            style=\"display:none;\">\n",
              "\n",
              "<svg xmlns=\"http://www.w3.org/2000/svg\" height=\"24px\"viewBox=\"0 0 24 24\"\n",
              "     width=\"24px\">\n",
              "    <g>\n",
              "        <path d=\"M19 3H5c-1.1 0-2 .9-2 2v14c0 1.1.9 2 2 2h14c1.1 0 2-.9 2-2V5c0-1.1-.9-2-2-2zM9 17H7v-7h2v7zm4 0h-2V7h2v10zm4 0h-2v-4h2v4z\"/>\n",
              "    </g>\n",
              "</svg>\n",
              "  </button>\n",
              "\n",
              "<style>\n",
              "  .colab-df-quickchart {\n",
              "      --bg-color: #E8F0FE;\n",
              "      --fill-color: #1967D2;\n",
              "      --hover-bg-color: #E2EBFA;\n",
              "      --hover-fill-color: #174EA6;\n",
              "      --disabled-fill-color: #AAA;\n",
              "      --disabled-bg-color: #DDD;\n",
              "  }\n",
              "\n",
              "  [theme=dark] .colab-df-quickchart {\n",
              "      --bg-color: #3B4455;\n",
              "      --fill-color: #D2E3FC;\n",
              "      --hover-bg-color: #434B5C;\n",
              "      --hover-fill-color: #FFFFFF;\n",
              "      --disabled-bg-color: #3B4455;\n",
              "      --disabled-fill-color: #666;\n",
              "  }\n",
              "\n",
              "  .colab-df-quickchart {\n",
              "    background-color: var(--bg-color);\n",
              "    border: none;\n",
              "    border-radius: 50%;\n",
              "    cursor: pointer;\n",
              "    display: none;\n",
              "    fill: var(--fill-color);\n",
              "    height: 32px;\n",
              "    padding: 0;\n",
              "    width: 32px;\n",
              "  }\n",
              "\n",
              "  .colab-df-quickchart:hover {\n",
              "    background-color: var(--hover-bg-color);\n",
              "    box-shadow: 0 1px 2px rgba(60, 64, 67, 0.3), 0 1px 3px 1px rgba(60, 64, 67, 0.15);\n",
              "    fill: var(--button-hover-fill-color);\n",
              "  }\n",
              "\n",
              "  .colab-df-quickchart-complete:disabled,\n",
              "  .colab-df-quickchart-complete:disabled:hover {\n",
              "    background-color: var(--disabled-bg-color);\n",
              "    fill: var(--disabled-fill-color);\n",
              "    box-shadow: none;\n",
              "  }\n",
              "\n",
              "  .colab-df-spinner {\n",
              "    border: 2px solid var(--fill-color);\n",
              "    border-color: transparent;\n",
              "    border-bottom-color: var(--fill-color);\n",
              "    animation:\n",
              "      spin 1s steps(1) infinite;\n",
              "  }\n",
              "\n",
              "  @keyframes spin {\n",
              "    0% {\n",
              "      border-color: transparent;\n",
              "      border-bottom-color: var(--fill-color);\n",
              "      border-left-color: var(--fill-color);\n",
              "    }\n",
              "    20% {\n",
              "      border-color: transparent;\n",
              "      border-left-color: var(--fill-color);\n",
              "      border-top-color: var(--fill-color);\n",
              "    }\n",
              "    30% {\n",
              "      border-color: transparent;\n",
              "      border-left-color: var(--fill-color);\n",
              "      border-top-color: var(--fill-color);\n",
              "      border-right-color: var(--fill-color);\n",
              "    }\n",
              "    40% {\n",
              "      border-color: transparent;\n",
              "      border-right-color: var(--fill-color);\n",
              "      border-top-color: var(--fill-color);\n",
              "    }\n",
              "    60% {\n",
              "      border-color: transparent;\n",
              "      border-right-color: var(--fill-color);\n",
              "    }\n",
              "    80% {\n",
              "      border-color: transparent;\n",
              "      border-right-color: var(--fill-color);\n",
              "      border-bottom-color: var(--fill-color);\n",
              "    }\n",
              "    90% {\n",
              "      border-color: transparent;\n",
              "      border-bottom-color: var(--fill-color);\n",
              "    }\n",
              "  }\n",
              "</style>\n",
              "\n",
              "  <script>\n",
              "    async function quickchart(key) {\n",
              "      const quickchartButtonEl =\n",
              "        document.querySelector('#' + key + ' button');\n",
              "      quickchartButtonEl.disabled = true;  // To prevent multiple clicks.\n",
              "      quickchartButtonEl.classList.add('colab-df-spinner');\n",
              "      try {\n",
              "        const charts = await google.colab.kernel.invokeFunction(\n",
              "            'suggestCharts', [key], {});\n",
              "      } catch (error) {\n",
              "        console.error('Error during call to suggestCharts:', error);\n",
              "      }\n",
              "      quickchartButtonEl.classList.remove('colab-df-spinner');\n",
              "      quickchartButtonEl.classList.add('colab-df-quickchart-complete');\n",
              "    }\n",
              "    (() => {\n",
              "      let quickchartButtonEl =\n",
              "        document.querySelector('#df-61ecb0b0-b967-406d-ad14-b0bd3c7239d8 button');\n",
              "      quickchartButtonEl.style.display =\n",
              "        google.colab.kernel.accessAllowed ? 'block' : 'none';\n",
              "    })();\n",
              "  </script>\n",
              "</div>\n",
              "\n",
              "    </div>\n",
              "  </div>\n"
            ],
            "application/vnd.google.colaboratory.intrinsic+json": {
              "type": "dataframe",
              "summary": "{\n  \"name\": \"aqi\",\n  \"rows\": 8,\n  \"fields\": [\n    {\n      \"column\": \"Year\",\n      \"properties\": {\n        \"dtype\": \"number\",\n        \"std\": 831.7326042665395,\n        \"min\": 0.0,\n        \"max\": 2023.0,\n        \"num_unique_values\": 3,\n        \"samples\": [\n          499.0,\n          2023.0,\n          0.0\n        ],\n        \"semantic_type\": \"\",\n        \"description\": \"\"\n      }\n    },\n    {\n      \"column\": \"Days with AQI\",\n      \"properties\": {\n        \"dtype\": \"number\",\n        \"std\": 156.84828702688856,\n        \"min\": 59.0,\n        \"max\": 499.0,\n        \"num_unique_values\": 6,\n        \"samples\": [\n          499.0,\n          339.7975951903808,\n          365.0\n        ],\n        \"semantic_type\": \"\",\n        \"description\": \"\"\n      }\n    },\n    {\n      \"column\": \"Good Days\",\n      \"properties\": {\n        \"dtype\": \"number\",\n        \"std\": 151.63499686608185,\n        \"min\": 31.0,\n        \"max\": 499.0,\n        \"num_unique_values\": 8,\n        \"samples\": [\n          213.69539078156313,\n          213.0,\n          499.0\n        ],\n        \"semantic_type\": \"\",\n        \"description\": \"\"\n      }\n    },\n    {\n      \"column\": \"Moderate Days\",\n      \"properties\": {\n        \"dtype\": \"number\",\n        \"std\": 160.4380200678114,\n        \"min\": 0.0,\n        \"max\": 499.0,\n        \"num_unique_values\": 8,\n        \"samples\": [\n          118.14428857715431,\n          119.0,\n          499.0\n        ],\n        \"semantic_type\": \"\",\n        \"description\": \"\"\n      }\n    },\n    {\n      \"column\": \"Unhealthy for Sensitive Groups Days\",\n      \"properties\": {\n        \"dtype\": \"number\",\n        \"std\": 173.04803585410835,\n        \"min\": 0.0,\n        \"max\": 499.0,\n        \"num_unique_values\": 8,\n        \"samples\": [\n          6.138276553106213,\n          3.0,\n          499.0\n        ],\n        \"semantic_type\": \"\",\n        \"description\": \"\"\n      }\n    },\n    {\n      \"column\": \"Unhealthy Days\",\n      \"properties\": {\n        \"dtype\": \"number\",\n        \"std\": 174.41952100829926,\n        \"min\": 0.0,\n        \"max\": 499.0,\n        \"num_unique_values\": 6,\n        \"samples\": [\n          499.0,\n          1.3787575150300602,\n          49.0\n        ],\n        \"semantic_type\": \"\",\n        \"description\": \"\"\n      }\n    },\n    {\n      \"column\": \"Very Unhealthy Days\",\n      \"properties\": {\n        \"dtype\": \"number\",\n        \"std\": 175.8915291339961,\n        \"min\": 0.0,\n        \"max\": 499.0,\n        \"num_unique_values\": 5,\n        \"samples\": [\n          0.3186372745490982,\n          10.0,\n          0.8739154763089598\n        ],\n        \"semantic_type\": \"\",\n        \"description\": \"\"\n      }\n    },\n    {\n      \"column\": \"Hazardous Days\",\n      \"properties\": {\n        \"dtype\": \"number\",\n        \"std\": 175.1094765864866,\n        \"min\": 0.0,\n        \"max\": 499.0,\n        \"num_unique_values\": 5,\n        \"samples\": [\n          0.12224448897795591,\n          31.0,\n          1.4475731568811228\n        ],\n        \"semantic_type\": \"\",\n        \"description\": \"\"\n      }\n    },\n    {\n      \"column\": \"Max AQI\",\n      \"properties\": {\n        \"dtype\": \"number\",\n        \"std\": 465.8770965369396,\n        \"min\": 32.0,\n        \"max\": 1435.0,\n        \"num_unique_values\": 8,\n        \"samples\": [\n          163.6112224448898,\n          147.0,\n          499.0\n        ],\n        \"semantic_type\": \"\",\n        \"description\": \"\"\n      }\n    },\n    {\n      \"column\": \"90th Percentile AQI\",\n      \"properties\": {\n        \"dtype\": \"number\",\n        \"std\": 160.66284887550253,\n        \"min\": 12.0,\n        \"max\": 499.0,\n        \"num_unique_values\": 8,\n        \"samples\": [\n          67.14629258517034,\n          66.0,\n          499.0\n        ],\n        \"semantic_type\": \"\",\n        \"description\": \"\"\n      }\n    },\n    {\n      \"column\": \"Median AQI\",\n      \"properties\": {\n        \"dtype\": \"number\",\n        \"std\": 164.28019961084956,\n        \"min\": 6.0,\n        \"max\": 499.0,\n        \"num_unique_values\": 8,\n        \"samples\": [\n          43.52905811623246,\n          44.0,\n          499.0\n        ],\n        \"semantic_type\": \"\",\n        \"description\": \"\"\n      }\n    },\n    {\n      \"column\": \"Days CO\",\n      \"properties\": {\n        \"dtype\": \"number\",\n        \"std\": 174.4904410545562,\n        \"min\": 0.0,\n        \"max\": 499.0,\n        \"num_unique_values\": 5,\n        \"samples\": [\n          0.3286573146292585,\n          93.0,\n          4.6170846084871915\n        ],\n        \"semantic_type\": \"\",\n        \"description\": \"\"\n      }\n    },\n    {\n      \"column\": \"Days NO2\",\n      \"properties\": {\n        \"dtype\": \"number\",\n        \"std\": 174.4390381075439,\n        \"min\": 0.0,\n        \"max\": 499.0,\n        \"num_unique_values\": 5,\n        \"samples\": [\n          0.9478957915831663,\n          93.0,\n          4.859191036714595\n        ],\n        \"semantic_type\": \"\",\n        \"description\": \"\"\n      }\n    },\n    {\n      \"column\": \"Days Ozone\",\n      \"properties\": {\n        \"dtype\": \"number\",\n        \"std\": 164.20526916813537,\n        \"min\": 0.0,\n        \"max\": 499.0,\n        \"num_unique_values\": 8,\n        \"samples\": [\n          144.57715430861722,\n          137.0,\n          499.0\n        ],\n        \"semantic_type\": \"\",\n        \"description\": \"\"\n      }\n    },\n    {\n      \"column\": \"Days PM2.5\",\n      \"properties\": {\n        \"dtype\": \"number\",\n        \"std\": 159.26138055182932,\n        \"min\": 0.0,\n        \"max\": 499.0,\n        \"num_unique_values\": 8,\n        \"samples\": [\n          182.5250501002004,\n          205.0,\n          499.0\n        ],\n        \"semantic_type\": \"\",\n        \"description\": \"\"\n      }\n    },\n    {\n      \"column\": \"Days PM10\",\n      \"properties\": {\n        \"dtype\": \"number\",\n        \"std\": 199.39166509999595,\n        \"min\": 0.0,\n        \"max\": 499.0,\n        \"num_unique_values\": 5,\n        \"samples\": [\n          11.418837675350701,\n          365.0,\n          46.33719313599599\n        ],\n        \"semantic_type\": \"\",\n        \"description\": \"\"\n      }\n    }\n  ]\n}"
            }
          },
          "metadata": {},
          "execution_count": 6
        }
      ]
    },
    {
      "cell_type": "markdown",
      "source": [
        "# Basics of the dataset\n",
        "\n",
        "Question 1: When was the data recorded ?\n",
        "Answer : Entire year 2023\n",
        "\n",
        "Question 2: What is the max value of AQI?\n",
        "Answer : 1435 in California"
      ],
      "metadata": {
        "id": "wU7KS-czTUAx"
      }
    },
    {
      "cell_type": "markdown",
      "source": [
        "# Performing Statistical tests"
      ],
      "metadata": {
        "id": "CINOqRxcyM2W"
      }
    },
    {
      "cell_type": "markdown",
      "source": [
        "# Question 1 : Provide a summary of the mean AQI for the states in which RRE operates.\n"
      ],
      "metadata": {
        "id": "W6ZMLG7oz4lI"
      }
    },
    {
      "cell_type": "code",
      "source": [
        "# Summarize the mean AQI for RRE states.\n",
        "# Create a list of RRE states.\n",
        "\n",
        "rre_states = ['California', 'Florida', 'Michigan', 'Ohio', 'Pennsylvania', 'Texas']\n",
        "\n",
        "# Subset `aqi` to only consider these states.\n",
        "aqi_rre = aqi[aqi['State'].isin(rre_states)]\n",
        "#renaming column\n",
        "aqi_rre.rename(columns={\"Max AQI\": 'AQI'}, inplace = True)\n",
        "# Find the mean aqi for each of the RRE states.\n",
        "\n",
        "aqi_rre.groupby(['State']).agg({\"AQI\":\"mean\",\"State\":\"count\"})"
      ],
      "metadata": {
        "colab": {
          "base_uri": "https://localhost:8080/",
          "height": 355
        },
        "id": "W4Q4fWyzTZlm",
        "outputId": "dc9b13a4-8984-4596-faed-6f85eca5e640"
      },
      "execution_count": null,
      "outputs": [
        {
          "output_type": "stream",
          "name": "stderr",
          "text": [
            "<ipython-input-7-86e1d7a1d2ea>:9: SettingWithCopyWarning: \n",
            "A value is trying to be set on a copy of a slice from a DataFrame\n",
            "\n",
            "See the caveats in the documentation: https://pandas.pydata.org/pandas-docs/stable/user_guide/indexing.html#returning-a-view-versus-a-copy\n",
            "  aqi_rre.rename(columns={\"Max AQI\": 'AQI'}, inplace = True)\n"
          ]
        },
        {
          "output_type": "execute_result",
          "data": {
            "text/plain": [
              "                     AQI  State\n",
              "State                          \n",
              "California    215.459459     37\n",
              "Florida       111.090909     22\n",
              "Michigan      177.764706     17\n",
              "Ohio          179.047619     21\n",
              "Pennsylvania  198.250000     20\n",
              "Texas         131.458333     24"
            ],
            "text/html": [
              "\n",
              "  <div id=\"df-e3192abb-4b7c-42e6-9637-5c76737d09b3\" class=\"colab-df-container\">\n",
              "    <div>\n",
              "<style scoped>\n",
              "    .dataframe tbody tr th:only-of-type {\n",
              "        vertical-align: middle;\n",
              "    }\n",
              "\n",
              "    .dataframe tbody tr th {\n",
              "        vertical-align: top;\n",
              "    }\n",
              "\n",
              "    .dataframe thead th {\n",
              "        text-align: right;\n",
              "    }\n",
              "</style>\n",
              "<table border=\"1\" class=\"dataframe\">\n",
              "  <thead>\n",
              "    <tr style=\"text-align: right;\">\n",
              "      <th></th>\n",
              "      <th>AQI</th>\n",
              "      <th>State</th>\n",
              "    </tr>\n",
              "    <tr>\n",
              "      <th>State</th>\n",
              "      <th></th>\n",
              "      <th></th>\n",
              "    </tr>\n",
              "  </thead>\n",
              "  <tbody>\n",
              "    <tr>\n",
              "      <th>California</th>\n",
              "      <td>215.459459</td>\n",
              "      <td>37</td>\n",
              "    </tr>\n",
              "    <tr>\n",
              "      <th>Florida</th>\n",
              "      <td>111.090909</td>\n",
              "      <td>22</td>\n",
              "    </tr>\n",
              "    <tr>\n",
              "      <th>Michigan</th>\n",
              "      <td>177.764706</td>\n",
              "      <td>17</td>\n",
              "    </tr>\n",
              "    <tr>\n",
              "      <th>Ohio</th>\n",
              "      <td>179.047619</td>\n",
              "      <td>21</td>\n",
              "    </tr>\n",
              "    <tr>\n",
              "      <th>Pennsylvania</th>\n",
              "      <td>198.250000</td>\n",
              "      <td>20</td>\n",
              "    </tr>\n",
              "    <tr>\n",
              "      <th>Texas</th>\n",
              "      <td>131.458333</td>\n",
              "      <td>24</td>\n",
              "    </tr>\n",
              "  </tbody>\n",
              "</table>\n",
              "</div>\n",
              "    <div class=\"colab-df-buttons\">\n",
              "\n",
              "  <div class=\"colab-df-container\">\n",
              "    <button class=\"colab-df-convert\" onclick=\"convertToInteractive('df-e3192abb-4b7c-42e6-9637-5c76737d09b3')\"\n",
              "            title=\"Convert this dataframe to an interactive table.\"\n",
              "            style=\"display:none;\">\n",
              "\n",
              "  <svg xmlns=\"http://www.w3.org/2000/svg\" height=\"24px\" viewBox=\"0 -960 960 960\">\n",
              "    <path d=\"M120-120v-720h720v720H120Zm60-500h600v-160H180v160Zm220 220h160v-160H400v160Zm0 220h160v-160H400v160ZM180-400h160v-160H180v160Zm440 0h160v-160H620v160ZM180-180h160v-160H180v160Zm440 0h160v-160H620v160Z\"/>\n",
              "  </svg>\n",
              "    </button>\n",
              "\n",
              "  <style>\n",
              "    .colab-df-container {\n",
              "      display:flex;\n",
              "      gap: 12px;\n",
              "    }\n",
              "\n",
              "    .colab-df-convert {\n",
              "      background-color: #E8F0FE;\n",
              "      border: none;\n",
              "      border-radius: 50%;\n",
              "      cursor: pointer;\n",
              "      display: none;\n",
              "      fill: #1967D2;\n",
              "      height: 32px;\n",
              "      padding: 0 0 0 0;\n",
              "      width: 32px;\n",
              "    }\n",
              "\n",
              "    .colab-df-convert:hover {\n",
              "      background-color: #E2EBFA;\n",
              "      box-shadow: 0px 1px 2px rgba(60, 64, 67, 0.3), 0px 1px 3px 1px rgba(60, 64, 67, 0.15);\n",
              "      fill: #174EA6;\n",
              "    }\n",
              "\n",
              "    .colab-df-buttons div {\n",
              "      margin-bottom: 4px;\n",
              "    }\n",
              "\n",
              "    [theme=dark] .colab-df-convert {\n",
              "      background-color: #3B4455;\n",
              "      fill: #D2E3FC;\n",
              "    }\n",
              "\n",
              "    [theme=dark] .colab-df-convert:hover {\n",
              "      background-color: #434B5C;\n",
              "      box-shadow: 0px 1px 3px 1px rgba(0, 0, 0, 0.15);\n",
              "      filter: drop-shadow(0px 1px 2px rgba(0, 0, 0, 0.3));\n",
              "      fill: #FFFFFF;\n",
              "    }\n",
              "  </style>\n",
              "\n",
              "    <script>\n",
              "      const buttonEl =\n",
              "        document.querySelector('#df-e3192abb-4b7c-42e6-9637-5c76737d09b3 button.colab-df-convert');\n",
              "      buttonEl.style.display =\n",
              "        google.colab.kernel.accessAllowed ? 'block' : 'none';\n",
              "\n",
              "      async function convertToInteractive(key) {\n",
              "        const element = document.querySelector('#df-e3192abb-4b7c-42e6-9637-5c76737d09b3');\n",
              "        const dataTable =\n",
              "          await google.colab.kernel.invokeFunction('convertToInteractive',\n",
              "                                                    [key], {});\n",
              "        if (!dataTable) return;\n",
              "\n",
              "        const docLinkHtml = 'Like what you see? Visit the ' +\n",
              "          '<a target=\"_blank\" href=https://colab.research.google.com/notebooks/data_table.ipynb>data table notebook</a>'\n",
              "          + ' to learn more about interactive tables.';\n",
              "        element.innerHTML = '';\n",
              "        dataTable['output_type'] = 'display_data';\n",
              "        await google.colab.output.renderOutput(dataTable, element);\n",
              "        const docLink = document.createElement('div');\n",
              "        docLink.innerHTML = docLinkHtml;\n",
              "        element.appendChild(docLink);\n",
              "      }\n",
              "    </script>\n",
              "  </div>\n",
              "\n",
              "\n",
              "<div id=\"df-e88a7c51-9982-45c5-9ddf-1d652ead977d\">\n",
              "  <button class=\"colab-df-quickchart\" onclick=\"quickchart('df-e88a7c51-9982-45c5-9ddf-1d652ead977d')\"\n",
              "            title=\"Suggest charts\"\n",
              "            style=\"display:none;\">\n",
              "\n",
              "<svg xmlns=\"http://www.w3.org/2000/svg\" height=\"24px\"viewBox=\"0 0 24 24\"\n",
              "     width=\"24px\">\n",
              "    <g>\n",
              "        <path d=\"M19 3H5c-1.1 0-2 .9-2 2v14c0 1.1.9 2 2 2h14c1.1 0 2-.9 2-2V5c0-1.1-.9-2-2-2zM9 17H7v-7h2v7zm4 0h-2V7h2v10zm4 0h-2v-4h2v4z\"/>\n",
              "    </g>\n",
              "</svg>\n",
              "  </button>\n",
              "\n",
              "<style>\n",
              "  .colab-df-quickchart {\n",
              "      --bg-color: #E8F0FE;\n",
              "      --fill-color: #1967D2;\n",
              "      --hover-bg-color: #E2EBFA;\n",
              "      --hover-fill-color: #174EA6;\n",
              "      --disabled-fill-color: #AAA;\n",
              "      --disabled-bg-color: #DDD;\n",
              "  }\n",
              "\n",
              "  [theme=dark] .colab-df-quickchart {\n",
              "      --bg-color: #3B4455;\n",
              "      --fill-color: #D2E3FC;\n",
              "      --hover-bg-color: #434B5C;\n",
              "      --hover-fill-color: #FFFFFF;\n",
              "      --disabled-bg-color: #3B4455;\n",
              "      --disabled-fill-color: #666;\n",
              "  }\n",
              "\n",
              "  .colab-df-quickchart {\n",
              "    background-color: var(--bg-color);\n",
              "    border: none;\n",
              "    border-radius: 50%;\n",
              "    cursor: pointer;\n",
              "    display: none;\n",
              "    fill: var(--fill-color);\n",
              "    height: 32px;\n",
              "    padding: 0;\n",
              "    width: 32px;\n",
              "  }\n",
              "\n",
              "  .colab-df-quickchart:hover {\n",
              "    background-color: var(--hover-bg-color);\n",
              "    box-shadow: 0 1px 2px rgba(60, 64, 67, 0.3), 0 1px 3px 1px rgba(60, 64, 67, 0.15);\n",
              "    fill: var(--button-hover-fill-color);\n",
              "  }\n",
              "\n",
              "  .colab-df-quickchart-complete:disabled,\n",
              "  .colab-df-quickchart-complete:disabled:hover {\n",
              "    background-color: var(--disabled-bg-color);\n",
              "    fill: var(--disabled-fill-color);\n",
              "    box-shadow: none;\n",
              "  }\n",
              "\n",
              "  .colab-df-spinner {\n",
              "    border: 2px solid var(--fill-color);\n",
              "    border-color: transparent;\n",
              "    border-bottom-color: var(--fill-color);\n",
              "    animation:\n",
              "      spin 1s steps(1) infinite;\n",
              "  }\n",
              "\n",
              "  @keyframes spin {\n",
              "    0% {\n",
              "      border-color: transparent;\n",
              "      border-bottom-color: var(--fill-color);\n",
              "      border-left-color: var(--fill-color);\n",
              "    }\n",
              "    20% {\n",
              "      border-color: transparent;\n",
              "      border-left-color: var(--fill-color);\n",
              "      border-top-color: var(--fill-color);\n",
              "    }\n",
              "    30% {\n",
              "      border-color: transparent;\n",
              "      border-left-color: var(--fill-color);\n",
              "      border-top-color: var(--fill-color);\n",
              "      border-right-color: var(--fill-color);\n",
              "    }\n",
              "    40% {\n",
              "      border-color: transparent;\n",
              "      border-right-color: var(--fill-color);\n",
              "      border-top-color: var(--fill-color);\n",
              "    }\n",
              "    60% {\n",
              "      border-color: transparent;\n",
              "      border-right-color: var(--fill-color);\n",
              "    }\n",
              "    80% {\n",
              "      border-color: transparent;\n",
              "      border-right-color: var(--fill-color);\n",
              "      border-bottom-color: var(--fill-color);\n",
              "    }\n",
              "    90% {\n",
              "      border-color: transparent;\n",
              "      border-bottom-color: var(--fill-color);\n",
              "    }\n",
              "  }\n",
              "</style>\n",
              "\n",
              "  <script>\n",
              "    async function quickchart(key) {\n",
              "      const quickchartButtonEl =\n",
              "        document.querySelector('#' + key + ' button');\n",
              "      quickchartButtonEl.disabled = true;  // To prevent multiple clicks.\n",
              "      quickchartButtonEl.classList.add('colab-df-spinner');\n",
              "      try {\n",
              "        const charts = await google.colab.kernel.invokeFunction(\n",
              "            'suggestCharts', [key], {});\n",
              "      } catch (error) {\n",
              "        console.error('Error during call to suggestCharts:', error);\n",
              "      }\n",
              "      quickchartButtonEl.classList.remove('colab-df-spinner');\n",
              "      quickchartButtonEl.classList.add('colab-df-quickchart-complete');\n",
              "    }\n",
              "    (() => {\n",
              "      let quickchartButtonEl =\n",
              "        document.querySelector('#df-e88a7c51-9982-45c5-9ddf-1d652ead977d button');\n",
              "      quickchartButtonEl.style.display =\n",
              "        google.colab.kernel.accessAllowed ? 'block' : 'none';\n",
              "    })();\n",
              "  </script>\n",
              "</div>\n",
              "\n",
              "    </div>\n",
              "  </div>\n"
            ],
            "application/vnd.google.colaboratory.intrinsic+json": {
              "type": "dataframe",
              "repr_error": "cannot insert State, already exists"
            }
          },
          "metadata": {},
          "execution_count": 7
        }
      ]
    },
    {
      "cell_type": "markdown",
      "source": [
        "# Question 2 : Construct a boxplot visualization for AQI of these states using seaborn .\n"
      ],
      "metadata": {
        "id": "H8QevC4t1K36"
      }
    },
    {
      "cell_type": "code",
      "source": [
        "import seaborn as sns\n",
        "#construct a box plot\n",
        "\n",
        "sns.boxplot(x=aqi_rre['State'],y=aqi_rre['AQI'])"
      ],
      "metadata": {
        "colab": {
          "base_uri": "https://localhost:8080/",
          "height": 466
        },
        "id": "4uA6b05Q1Z6h",
        "outputId": "7d480abb-e376-43f2-e92b-c0c05f5eb256"
      },
      "execution_count": null,
      "outputs": [
        {
          "output_type": "execute_result",
          "data": {
            "text/plain": [
              "<Axes: xlabel='State', ylabel='AQI'>"
            ]
          },
          "metadata": {},
          "execution_count": 8
        },
        {
          "output_type": "display_data",
          "data": {
            "text/plain": [
              "<Figure size 640x480 with 1 Axes>"
            ],
            "image/png": "[encoded data removed]"
          },
          "metadata": {}
        }
      ]
    },
    {
      "cell_type": "markdown",
      "source": [
        "Question: Based on the data and the visualizations, which state(s) do we suspect will be most affected by this policy?\n",
        "Answer : Pennsylvania as the range is between 150 & 300 and mean is over 200.\n"
      ],
      "metadata": {
        "id": "xd48w4E151d1"
      }
    },
    {
      "cell_type": "markdown",
      "source": [
        "# Question 3 :  Construct a confidence interval for the RRE state with the highest mean AQI.\n",
        "\n",
        "\n",
        "Recall the four-step process for constructing a confidence interval:\n",
        "1. Identify a sample statistic.\n",
        "2. Choose a confidence level.\n",
        "3. Find the margin of error.\n",
        "4. Calculate the interval.\n",
        "5. Validation with formulas"
      ],
      "metadata": {
        "id": "M3XN2IIx6VQD"
      }
    },
    {
      "cell_type": "code",
      "source": [
        "# Step 1 : Construct Sample statitics\n",
        "# choosing California as a subset\n",
        "\n",
        "aqi_cali = aqi[aqi['State'] == 'California']\n",
        "\n",
        "#finding mean for california\n",
        "\n",
        "cali_mean = aqi_cali['Max AQI'].mean()\n",
        "print(cali_mean)"
      ],
      "metadata": {
        "colab": {
          "base_uri": "https://localhost:8080/"
        },
        "id": "78kz7PkH4dnw",
        "outputId": "23547d58-21f3-412d-acc0-737bc18636f1"
      },
      "execution_count": null,
      "outputs": [
        {
          "output_type": "stream",
          "name": "stdout",
          "text": [
            "215.45945945945945\n"
          ]
        }
      ]
    },
    {
      "cell_type": "code",
      "source": [
        "# Step 2 : Choosing your confidence intervals\n",
        "\n",
        "# input your confidence interval , choose 0.9, 0.95 or 0.99\n",
        "\n",
        "confidence = 0.95\n",
        "print(confidence)\n",
        "\n",
        "\n",
        "\n"
      ],
      "metadata": {
        "colab": {
          "base_uri": "https://localhost:8080/"
        },
        "id": "2mVLRySU8Kzh",
        "outputId": "c774c54f-f3ba-4334-9eca-6876a7f1422e"
      },
      "execution_count": null,
      "outputs": [
        {
          "output_type": "stream",
          "name": "stdout",
          "text": [
            "0.95\n"
          ]
        }
      ]
    },
    {
      "cell_type": "markdown",
      "source": [
        "Find your margin of error (ME)\n",
        "\n",
        "margin of error = z * standard error, where z is the appropriate z-value for the given confidence level.\n",
        "\n",
        "To calculate your margin of error:\n",
        "1. Find your z-value.\n",
        "2. Find the approximate z for common confidence levels.\n",
        "3. Calculate your standard error estimate.\n",
        "\n",
        "\n",
        "\n",
        "*   z score for 0.90 CI = 1.65\n",
        "*   z score for 0.95 CI = 1.96\n",
        "*   z score for 0.99 CI = 2.58\n"
      ],
      "metadata": {
        "id": "pw9Vg6WV-dwI"
      }
    },
    {
      "cell_type": "code",
      "source": [
        "# Step 3: Find margin of error\n",
        "\n",
        "# Begin by identifying the z associated with your chosen confidence level.\n",
        "\n",
        "def z_value(confidence):\n",
        "  if confidence == 0.90:\n",
        "    return 1.65\n",
        "  elif confidence == 0.95:\n",
        "    return 1.96\n",
        "  elif confidence == 0.99:\n",
        "    return 2.58\n",
        "\n",
        "# Next, calculate your standard error.\n",
        "\n",
        "standard_error = aqi_cali['Max AQI'].std() / np.sqrt(aqi_cali.shape[0])\n",
        "print(\"Standard Error = \", standard_error)\n",
        "\n",
        "# Finally, calculate your margin of error.\n",
        "\n",
        "margin_of_error = z_value(confidence) * standard_error\n",
        "print(\"Margin of Error = \", margin_of_error)"
      ],
      "metadata": {
        "colab": {
          "base_uri": "https://localhost:8080/"
        },
        "id": "knye5-S79qRh",
        "outputId": "56398f35-c0b6-4b2b-a841-984dccb6aad4"
      },
      "execution_count": null,
      "outputs": [
        {
          "output_type": "stream",
          "name": "stdout",
          "text": [
            "Standard Error =  42.03444166606796\n",
            "Margin of Error =  82.38750566549321\n"
          ]
        }
      ]
    },
    {
      "cell_type": "code",
      "source": [
        "# Step 4 : Calculate your interval\n",
        "# [Calculate both a lower and upper limit surrounding your sample mean to create your interval]\n",
        "\n",
        "ll = cali_mean - margin_of_error\n",
        "ul = cali_mean + margin_of_error\n",
        "\n",
        "print(\"Lower Limit = \", ll)\n",
        "print(\"Upper Limit = \", ul)\n"
      ],
      "metadata": {
        "colab": {
          "base_uri": "https://localhost:8080/"
        },
        "id": "CQCJf8PuCsBq",
        "outputId": "705c3e96-2a0a-4850-91d0-d530d2620929"
      },
      "execution_count": null,
      "outputs": [
        {
          "output_type": "stream",
          "name": "stdout",
          "text": [
            "Lower Limit =  133.07195379396626\n",
            "Upper Limit =  297.84696512495265\n"
          ]
        }
      ]
    },
    {
      "cell_type": "code",
      "source": [
        "# Step 5 : Validation with formulas\n",
        "\n",
        "# import stats from scipy\n",
        "\n",
        "from scipy import stats\n",
        "\n",
        "# The stats.norm.interval() function expects the confidence level, not alpha.\n",
        "# Replace 'alpha' with 'confidence' and pass the confidence value.\n",
        "validation = stats.norm.interval(confidence=confidence, loc=cali_mean, scale=standard_error)\n",
        "\n",
        "print(validation)"
      ],
      "metadata": {
        "colab": {
          "base_uri": "https://localhost:8080/"
        },
        "id": "GlS-UaveC8I5",
        "outputId": "d9916b41-b3fc-4fd3-f63d-6226d9dfd714"
      },
      "execution_count": null,
      "outputs": [
        {
          "output_type": "stream",
          "name": "stdout",
          "text": [
            "(133.07346768371642, 297.8454512352025)\n"
          ]
        }
      ]
    }
  ]
}